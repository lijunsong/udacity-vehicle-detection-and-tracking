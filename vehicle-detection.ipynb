{
 "cells": [
  {
   "cell_type": "code",
   "execution_count": null,
   "metadata": {
    "collapsed": false
   },
   "outputs": [],
   "source": [
    "from utils import *\n",
    "from train import *\n",
    "import matplotlib.pyplot as plt\n",
    "%matplotlib inline"
   ]
  },
  {
   "cell_type": "code",
   "execution_count": null,
   "metadata": {
    "collapsed": true
   },
   "outputs": [],
   "source": [
    "def show_image(img, ax=None):\n",
    "    if ax is None:\n",
    "        ax = plt\n",
    "    if len(img.shape) == 2:\n",
    "        ax.imshow(img, cmap='gray')\n",
    "    else:\n",
    "        ax.imshow(img)\n",
    "def show_images(img_titles):\n",
    "    \"\"\"show a list of (img, title), or a list of images\"\"\"\n",
    "    cols = len(img_titles)\n",
    "    f, axs = plt.subplots(1, cols, figsize=(24, 9))\n",
    "    f.tight_layout()\n",
    "    for i, image_title in enumerate(img_titles):\n",
    "        if type(image_title) is tuple or type(image_title) is list:\n",
    "            img, title = image_title\n",
    "        else:\n",
    "            img = image_title\n",
    "            title = \"unspecified\"\n",
    "        axs[i].set_title(title, fontsize=30)\n",
    "        show_image(img, axs[i])\n",
    "    plt.subplots_adjust(left=0., right=1, top=0.9, bottom=0.)"
   ]
  },
  {
   "cell_type": "markdown",
   "metadata": {},
   "source": [
    "# Explore HOG"
   ]
  },
  {
   "cell_type": "code",
   "execution_count": null,
   "metadata": {
    "collapsed": false
   },
   "outputs": [],
   "source": [
    "def view_hog(file, color_space, orient=9, pix_per_cell=8, cell_per_block=2):\n",
    "    test_image = read_image(file)\n",
    "    conv = convert_color(test_image, color_space)\n",
    "    def get_vis (channel):\n",
    "        _, img = get_hog_features(conv[:,:,channel], orient, pix_per_cell, cell_per_block, vis=True)\n",
    "        return img\n",
    "    \n",
    "    img1, img2, img3 = [get_vis(i) for i in [0,1,2]]\n",
    "    show_images([(test_image, 'original'),\n",
    "                 (conv,       color_space),\n",
    "                 (conv[:,:,0], 'channel 1'),\n",
    "                 (img1,       'ch1 HOG'),\n",
    "                 (conv[:,:,1], 'channel 2'),\n",
    "                 (img2,       'ch2 HOG'),\n",
    "                 (conv[:,:,2], 'channel 3'),\n",
    "                 (img3,       'ch3 HOG')])\n",
    "def explore_file(view_file):\n",
    "    spaces = ['RGB', 'HSV', 'YCrCb', 'HLS', 'YUV', 'LUV']\n",
    "    for s in spaces:\n",
    "        view_hog(view_file, s, orient=32)"
   ]
  },
  {
   "cell_type": "code",
   "execution_count": null,
   "metadata": {
    "collapsed": false
   },
   "outputs": [],
   "source": [
    "#explore_file('large-data/vehicles/GTI_Right/image0775.png')"
   ]
  },
  {
   "cell_type": "code",
   "execution_count": null,
   "metadata": {
    "collapsed": false
   },
   "outputs": [],
   "source": [
    "#explore_file('large-data/non-vehicles/Extras/extra20.png')"
   ]
  },
  {
   "cell_type": "markdown",
   "metadata": {},
   "source": [
    "# Training"
   ]
  },
  {
   "cell_type": "code",
   "execution_count": null,
   "metadata": {
    "collapsed": false
   },
   "outputs": [],
   "source": [
    "model = training('large-data/vehicles', 'large-data/non-vehicles')\n",
    "\n",
    "#model = Model('model.pkl')\n",
    "test_image = read_image('test_images/test1.jpg')\n",
    "\n",
    "search = CarSearch(model)\n",
    "annotated = search.annotate_cars_in_image(test_image)\n",
    "show_image(annotated)\n"
   ]
  },
  {
   "cell_type": "markdown",
   "metadata": {},
   "source": [
    "# Video"
   ]
  },
  {
   "cell_type": "code",
   "execution_count": null,
   "metadata": {
    "collapsed": false
   },
   "outputs": [],
   "source": [
    "\n",
    "from moviepy.editor import VideoFileClip\n",
    "from IPython.display import HTML\n",
    "\n",
    "count = [0]\n",
    "def save_image(img):\n",
    "    mpimg.imsave('output-images/image-%d.png'%count[0], img)\n",
    "    count[0] += 1\n",
    "    return img\n",
    "\n",
    "def process_video(video_filename):\n",
    "    model = Model('model.pkl')\n",
    "    search = CarSearch(model) \n",
    "    output = \"annotated_P5_\" + video_filename\n",
    "    input_clip = VideoFileClip(video_filename)\n",
    "    clip = input_clip.fl_image(search.annotate_cars_in_image)\n",
    "    #clip = input_clip.fl_image(save_image)\n",
    "    %time clip.write_videofile(output, audio=False)\n",
    "\n",
    "v1 = 'test_video.mp4'\n",
    "v2 = 'project_video.mp4'\n",
    "\n",
    "process_video(v1)\n"
   ]
  },
  {
   "cell_type": "code",
   "execution_count": null,
   "metadata": {
    "collapsed": true
   },
   "outputs": [],
   "source": []
  }
 ],
 "metadata": {
  "kernelspec": {
   "display_name": "Python 3",
   "language": "python",
   "name": "python3"
  },
  "language_info": {
   "codemirror_mode": {
    "name": "ipython",
    "version": 3
   },
   "file_extension": ".py",
   "mimetype": "text/x-python",
   "name": "python",
   "nbconvert_exporter": "python",
   "pygments_lexer": "ipython3",
   "version": "3.5.2"
  },
  "widgets": {
   "state": {},
   "version": "1.1.2"
  }
 },
 "nbformat": 4,
 "nbformat_minor": 2
}
